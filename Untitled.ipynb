{
 "cells": [
  {
   "cell_type": "markdown",
   "id": "9f9d08f7",
   "metadata": {},
   "source": [
    "# Load Libraries"
   ]
  },
  {
   "cell_type": "code",
   "execution_count": 6,
   "id": "912f835a",
   "metadata": {},
   "outputs": [],
   "source": [
    "import os\n",
    "import pandas as pd\n",
    "import pandas_datareader.data as web\n",
    "import FinanceDataReader as fdr\n",
    "import datetime \n",
    "\n"
   ]
  },
  {
   "cell_type": "code",
   "execution_count": 53,
   "id": "8fbc9bb6",
   "metadata": {},
   "outputs": [],
   "source": [
    "#check for newly updated stock lists\n",
    "conn = psycopg2.connect(host='localhost', dbname='testdb',user='testadmin',password='',port=5432)\n",
    "cur = conn.cursor()\n",
    "\n",
    "df_kospi = fdr.StockListing('KOSPI')\n",
    "df_kosdaq = fdr.StockListing('KOSDAQ')\n",
    "df_to_list1 = df_kospi[df_kospi['ListingDate'] <= str(datetime.date.today())]\n",
    "df_to_list2 = df_kosdaq[df_kosdaq['ListingDate'] <= str(datetime.date.today())]\n",
    "for index, row in df_to_list1.iterrows():\n",
    "    sql = \"INSERT INTO stock(stock_name, market_id,stock_id, industry) VALUES (%s,%s, %s,%s) ON CONFLICT DO NOTHING;;\"\n",
    "    data= (row['Name'], 1, row['Symbol'], row['Industry'],)\n",
    "    cur.execute(sql,data)\n",
    "\n",
    "for index, row in df_to_list2.iterrows():\n",
    "    sql = \"INSERT INTO stock(stock_name, market_id,stock_id, industry) VALUES (%s,%s, %s,%s) ON CONFLICT DO NOTHING;;\"\n",
    "    data= (row['Name'], 2, row['Symbol'], row['Industry'],)\n",
    "    cur.execute(sql,data)    \n",
    "conn.commit()\n",
    "cur.close\n",
    "conn.close()"
   ]
  },
  {
   "cell_type": "code",
   "execution_count": 54,
   "id": "714d9e9f",
   "metadata": {},
   "outputs": [],
   "source": [
    "#update prices connect to yahoo finance\n"
   ]
  },
  {
   "cell_type": "code",
   "execution_count": 4,
   "id": "2142089b",
   "metadata": {},
   "outputs": [
    {
     "data": {
      "text/plain": [
       "<connection object at 0x7fd1f171eeb0; dsn: 'user=testdb password=xxx dbname=testdb host=localhost port=5432', closed: 0>"
      ]
     },
     "execution_count": 4,
     "metadata": {},
     "output_type": "execute_result"
    }
   ],
   "source": [
    "#update module \n",
    "#check the date for updates\n",
    "#update if there is new data\n",
    "\n",
    "#To-do automation with scheduler\n"
   ]
  },
  {
   "cell_type": "code",
   "execution_count": null,
   "id": "29cfd200",
   "metadata": {},
   "outputs": [],
   "source": [
    "#retrieve stock daily price and add them into \n",
    "\n",
    "import psycopg2\n",
    "db_info = [host='localhost', dbname='testdb',user='testdb',password='',port=5432]\n",
    "conn = psycopg2.connect(host='localhost', dbname='testdb',user='testdb',password='',port=5432)\n",
    "\n",
    "# add stock names\n",
    "cur = conn.cursor()\n",
    "cur.execute()\n",
    "\n",
    "\n",
    "\n",
    "def insert_stock(stock_id, stock_name):\n",
    "    \"\"\" insert a new vendor into the vendors table \"\"\"\n",
    "    sql = \"\"\"INSERT INTO stock('stock_id', 'stock_name'\n",
    "    )\n",
    "             VALUES(%s) RETURNING vendor_id;\"\"\"\n",
    "    conn = None\n",
    "    vendor_id = None\n",
    "    try:\n",
    "        # read database configuration\n",
    "        params = config()\n",
    "        # connect to the PostgreSQL database\n",
    "        conn = psycopg2.connect(**params)\n",
    "        # create a new cursor\n",
    "        cur = conn.cursor()\n",
    "        # execute the INSERT statement\n",
    "        cur.execute(sql, (vendor_name,))\n",
    "        # get the generated id back\n",
    "        vendor_id = cur.fetchone()[0]\n",
    "        # commit the changes to the database\n",
    "        conn.commit()\n",
    "        # close communication with the database\n",
    "        cur.close()\n",
    "    except (Exception, psycopg2.DatabaseError) as error:\n",
    "        print(error)\n",
    "    finally:\n",
    "        if conn is not None:\n",
    "            conn.close()\n",
    "\n",
    "    return vendor_id"
   ]
  }
 ],
 "metadata": {
  "kernelspec": {
   "display_name": "Python 3",
   "language": "python",
   "name": "python3"
  },
  "language_info": {
   "codemirror_mode": {
    "name": "ipython",
    "version": 3
   },
   "file_extension": ".py",
   "mimetype": "text/x-python",
   "name": "python",
   "nbconvert_exporter": "python",
   "pygments_lexer": "ipython3",
   "version": "3.8.8"
  }
 },
 "nbformat": 4,
 "nbformat_minor": 5
}
